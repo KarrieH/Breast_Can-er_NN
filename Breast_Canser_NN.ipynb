{
 "cells": [
  {
   "cell_type": "markdown",
   "metadata": {},
   "source": [
    "# Нейронная сеть, предсказывающая рак груди"
   ]
  },
  {
   "cell_type": "code",
   "execution_count": 171,
   "metadata": {},
   "outputs": [],
   "source": [
    "from sklearn.neural_network import MLPClassifier\n",
    "from sklearn.datasets import load_breast_cancer\n",
    "from sklearn.model_selection import train_test_split"
   ]
  },
  {
   "cell_type": "code",
   "execution_count": 41,
   "metadata": {},
   "outputs": [],
   "source": [
    "data = load_breast_cancer()"
   ]
  },
  {
   "cell_type": "code",
   "execution_count": 42,
   "metadata": {},
   "outputs": [],
   "source": [
    "attributes = data.data\n",
    "labels = data.target"
   ]
  },
  {
   "cell_type": "code",
   "execution_count": 43,
   "metadata": {},
   "outputs": [],
   "source": [
    "attributes_train, attributes_test, labels_train, labels_test =\\\n",
    "train_test_split(attributes,labels, test_size = 0.33)"
   ]
  },
  {
   "cell_type": "code",
   "execution_count": 47,
   "metadata": {},
   "outputs": [
    {
     "name": "stdout",
     "output_type": "stream",
     "text": [
      "0 - 37.234% accuracy\n",
      "1 - 91.489% accuracy\n",
      "2 - 37.234% accuracy\n",
      "3 - 88.83% accuracy\n",
      "4 - 62.766% accuracy\n",
      "5 - 37.234% accuracy\n",
      "6 - 72.872% accuracy\n"
     ]
    }
   ],
   "source": [
    "for i in range(7):\n",
    "    neuralnet = MLPClassifier()\n",
    "    neuralnet.fit(attributes_train,labels_train)\n",
    "    accuracy = neuralnet.score(attributes_test,labels_test)\n",
    "    print('{} - {}% accuracy'.format(i,round(accuracy*100,3)))"
   ]
  },
  {
   "cell_type": "code",
   "execution_count": 48,
   "metadata": {},
   "outputs": [
    {
     "name": "stdout",
     "output_type": "stream",
     "text": [
      "0 - 92.021% accuracy\n",
      "1 - 90.957% accuracy\n",
      "2 - 91.489% accuracy\n",
      "3 - 91.489% accuracy\n",
      "4 - 90.957% accuracy\n",
      "5 - 90.957% accuracy\n",
      "6 - 90.957% accuracy\n"
     ]
    }
   ],
   "source": [
    "for i in range(7):\n",
    "    neuralnet = MLPClassifier(solver='lbfgs',activation='logistic', alpha=10.0)\n",
    "    neuralnet.fit(attributes_train,labels_train)\n",
    "    accuracy = neuralnet.score(attributes_test,labels_test)\n",
    "    print('{} - {}% accuracy'.format(i,round(accuracy*100,3)))"
   ]
  }
 ],
 "metadata": {
  "kernelspec": {
   "display_name": "Python 3",
   "language": "python",
   "name": "python3"
  },
  "language_info": {
   "codemirror_mode": {
    "name": "ipython",
    "version": 3
   },
   "file_extension": ".py",
   "mimetype": "text/x-python",
   "name": "python",
   "nbconvert_exporter": "python",
   "pygments_lexer": "ipython3",
   "version": "3.6.8"
  }
 },
 "nbformat": 4,
 "nbformat_minor": 2
}
